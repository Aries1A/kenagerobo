{
 "cells": [
  {
   "cell_type": "code",
   "execution_count": 12,
   "metadata": {},
   "outputs": [],
   "source": [
    "import cv2\n",
    "import numpy as np\n",
    "from matplotlib import pyplot as plt\n",
    "import sys\n",
    "import os\n",
    "import glob\n"
   ]
  },
  {
   "cell_type": "code",
   "execution_count": null,
   "metadata": {},
   "outputs": [],
   "source": [
    "import cv2\n",
    "import os\n",
    "\n",
    "def save_frame_camera_key(device_num, dir_path, basename, ext='jpg', delay=1, window_name='frame'):\n",
    "    cap = cv2.VideoCapture(device_num)\n",
    "\n",
    "    if not cap.isOpened():\n",
    "        print(\"no camera\")\n",
    "        return\n",
    "\n",
    "    os.makedirs(dir_path, exist_ok=True)\n",
    "    base_path = os.path.join(dir_path, basename)\n",
    "\n",
    "    n = 0\n",
    "    \n",
    "    while True:\n",
    "        ret, frame = cap.read()\n",
    "        cv2.imshow(window_name, frame)\n",
    "        key = cv2.waitKey(delay) & 0xFF\n",
    "        if key == ord('c'):\n",
    "            cv2.imwrite('{}_{}.{}'.format(base_path, n, ext), frame)\n",
    "            n += 1\n",
    "        elif key == ord('q'):\n",
    "            break\n",
    "\n",
    "            \n",
    "    cv2.destroyWindow(window_name)\n",
    "\n",
    "save_frame_camera_key(0, './img_forum', 'camera_capture')"
   ]
  },
  {
   "cell_type": "code",
   "execution_count": 18,
   "metadata": {},
   "outputs": [],
   "source": [
    "\n",
    "path = './img_forum/camera_capture_1.jpg' \n",
    "i = cv2.imread(path, 1) "
   ]
  },
  {
   "cell_type": "code",
   "execution_count": 15,
   "metadata": {},
   "outputs": [],
   "source": [
    "cv2.imshow('frame',i)\n",
    "cv2.waitKey(0)\n",
    "cv2.destroyAllWindows()"
   ]
  },
  {
   "cell_type": "code",
   "execution_count": 23,
   "metadata": {},
   "outputs": [
    {
     "data": {
      "text/plain": [
       "True"
      ]
     },
     "execution_count": 23,
     "metadata": {},
     "output_type": "execute_result"
    }
   ],
   "source": [
    "# 変換前後の対応点を設定\n",
    "p_original = np.float32([ [227,217],[60,518], [1107,223], [1268, 522]])\n",
    "p_trans = np.float32([[0,0], [0,720], [1280,0], [1280,720]])\n",
    " \n",
    "# 変換マトリクスと射影変換\n",
    "M = cv2.getPerspectiveTransform(p_original, p_trans)\n",
    "i_trans = cv2.warpPerspective(i, M, (1280, 720))\n",
    " \n",
    "cv2.imwrite(\"./img/out.jpg\", i_trans)"
   ]
  },
  {
   "cell_type": "code",
   "execution_count": 15,
   "metadata": {},
   "outputs": [
    {
     "name": "stdout",
     "output_type": "stream",
     "text": [
      "['./img_forum/camera_capture_1.jpg', './img_forum/camera_capture_0.jpg', './img_forum/camera_capture_2.jpg', './img_forum/camera_capture_3.jpg', './img_forum/camera_capture_4.jpg', './img_forum/camera_capture_5.jpg']\n",
      "True\n",
      "True\n",
      "True\n",
      "True\n",
      "True\n",
      "True\n"
     ]
    }
   ],
   "source": [
    "# 変換前後の対応点を設定\n",
    "p_original = np.float32([S1,S2,S3, S4])\n",
    "p_trans = np.float32([[0,0], [0,720], [1280,0], [1280,720]])# 変換マトリクスと射影変換\n",
    "M = cv2.getPerspectiveTransform(p_original, p_trans)\n",
    "path = './img/' \n",
    "\n",
    "files = glob.glob(\"./img_forum/*.jpg\")\n",
    "print(files)\n",
    "for file in files:\n",
    "    i = cv2.imread(file,1)\n",
    "#     print(i)\n",
    "    i_trans = cv2.warpPerspective(i, M, (1280, 720)) \n",
    "#     print(i_trans)\n",
    "    print(cv2.imwrite(\"./img_forum_square/{}\".format(file[12:]), i_trans))"
   ]
  },
  {
   "cell_type": "code",
   "execution_count": 25,
   "metadata": {},
   "outputs": [
    {
     "data": {
      "text/plain": [
       "'./img_square/./img/156_35_himo.jpg'"
      ]
     },
     "execution_count": 25,
     "metadata": {},
     "output_type": "execute_result"
    }
   ],
   "source": [
    "\"./img_square/{0}\".format(file)"
   ]
  },
  {
   "cell_type": "code",
   "execution_count": null,
   "metadata": {},
   "outputs": [],
   "source": [
    "# 画像の読み込み\n",
    "img_src1 = cv2.imread(\"./img_forum_square/camera_capture_0.jpg\", 0)\n",
    "img_src2 = cv2.imread(\"./img_forum_square/camera_capture_4.jpg\", 0)\n",
    "\n",
    "fgbg = cv2.bgsegm.createBackgroundSubtractorMOG()\n",
    "\n",
    "fgmask = fgbg.apply(img_src1)\n",
    "fgmask = fgbg.apply(img_src2)\n",
    "\n",
    "# 表示\n",
    "cv2.imshow('frame',fgmask)\n",
    "\n",
    "# 検出画像\n",
    "bg_diff_path  = './diff.jpg'\n",
    "cv2.imwrite(bg_diff_path,fgmask)\n",
    "\n",
    "cv2.waitKey(0)\n",
    "cv2.destroyAllWindows()"
   ]
  },
  {
   "cell_type": "code",
   "execution_count": null,
   "metadata": {},
   "outputs": [],
   "source": [
    "import cv2\n",
    "import math\n",
    "import numpy as np\n",
    "import os\n",
    "\n",
    "# 画像の読み込み\n",
    "img_src1 = cv2.imread(\"./img_forum_square/camera_capture_1.jpg\", 0)\n",
    "img_src2 = cv2.imread(\"./img_forum_square/camera_capture_3.jpg\", 0)\n",
    "\n",
    "# 背景画像との差分を算出\n",
    "img_diff = cv2.absdiff(img_src2, img_src1)\n",
    "\n",
    "# 差分を二値化\n",
    "img_diffm = cv2.threshold(img_diff, 20, 255, cv2.THRESH_BINARY)[1]\n",
    "\n",
    "# 膨張処理、収縮処理を施してマスク画像を生成\n",
    "operator = np.ones((3, 3), np.uint8)\n",
    "img_dilate = cv2.dilate(img_diffm, operator, iterations=4)\n",
    "img_mask = cv2.erode(img_dilate, operator, iterations=4)\n",
    "\n",
    "# マスク画像を使って対象を切り出す\n",
    "img_dst = cv2.bitwise_and(img_src2, img_mask)\n",
    "\n",
    "# 表示\n",
    "cv2.imshow(\"Show BACKGROUND SUBSTRACTION Image\", img_dst)\n",
    "cv2.waitKey(0)\n",
    "cv2.destroyAllWindows()"
   ]
  },
  {
   "cell_type": "code",
   "execution_count": 2,
   "metadata": {},
   "outputs": [
    {
     "ename": "ValueError",
     "evalue": "too many values to unpack (expected 2)",
     "output_type": "error",
     "traceback": [
      "\u001b[0;31m---------------------------------------------------------------------------\u001b[0m",
      "\u001b[0;31mValueError\u001b[0m                                Traceback (most recent call last)",
      "\u001b[0;32m<ipython-input-2-1ccc69479ac3>\u001b[0m in \u001b[0;36m<module>\u001b[0;34m\u001b[0m\n\u001b[1;32m      1\u001b[0m \u001b[0;31m# 輪郭を抽出する。\u001b[0m\u001b[0;34m\u001b[0m\u001b[0;34m\u001b[0m\u001b[0;34m\u001b[0m\u001b[0m\n\u001b[0;32m----> 2\u001b[0;31m \u001b[0mcontours\u001b[0m\u001b[0;34m,\u001b[0m \u001b[0mhierarchy\u001b[0m \u001b[0;34m=\u001b[0m \u001b[0mcv2\u001b[0m\u001b[0;34m.\u001b[0m\u001b[0mfindContours\u001b[0m\u001b[0;34m(\u001b[0m\u001b[0mimg_dst\u001b[0m\u001b[0;34m,\u001b[0m \u001b[0mcv2\u001b[0m\u001b[0;34m.\u001b[0m\u001b[0mRETR_EXTERNAL\u001b[0m\u001b[0;34m,\u001b[0m \u001b[0mcv2\u001b[0m\u001b[0;34m.\u001b[0m\u001b[0mCHAIN_APPROX_SIMPLE\u001b[0m\u001b[0;34m)\u001b[0m\u001b[0;34m\u001b[0m\u001b[0;34m\u001b[0m\u001b[0m\n\u001b[0m",
      "\u001b[0;31mValueError\u001b[0m: too many values to unpack (expected 2)"
     ]
    }
   ],
   "source": [
    "# 輪郭を抽出する。\n",
    "contours, hierarchy = cv2.findContours(img_dst, cv2.RETR_EXTERNAL, cv2.CHAIN_APPROX_SIMPLE)"
   ]
  },
  {
   "cell_type": "code",
   "execution_count": 14,
   "metadata": {},
   "outputs": [],
   "source": [
    "image, contours, hierarchy = cv2.findContours(img_dst,cv2.RETR_EXTERNAL, cv2.CHAIN_APPROX_SIMPLE)"
   ]
  },
  {
   "cell_type": "code",
   "execution_count": 15,
   "metadata": {},
   "outputs": [
    {
     "data": {
      "text/plain": [
       "list"
      ]
     },
     "execution_count": 15,
     "metadata": {},
     "output_type": "execute_result"
    }
   ],
   "source": [
    "type(contours)"
   ]
  },
  {
   "cell_type": "code",
   "execution_count": 16,
   "metadata": {},
   "outputs": [
    {
     "data": {
      "text/plain": [
       "250"
      ]
     },
     "execution_count": 16,
     "metadata": {},
     "output_type": "execute_result"
    }
   ],
   "source": [
    "\n",
    "len(contours)\n"
   ]
  },
  {
   "cell_type": "code",
   "execution_count": 17,
   "metadata": {},
   "outputs": [
    {
     "data": {
      "text/plain": [
       "(1, 250, 4)"
      ]
     },
     "execution_count": 17,
     "metadata": {},
     "output_type": "execute_result"
    }
   ],
   "source": [
    "type(hierarchy)\n",
    "hierarchy.shape"
   ]
  },
  {
   "cell_type": "code",
   "execution_count": 18,
   "metadata": {},
   "outputs": [
    {
     "data": {
      "text/plain": [
       "<matplotlib.image.AxesImage at 0x10b231350>"
      ]
     },
     "execution_count": 18,
     "metadata": {},
     "output_type": "execute_result"
    },
    {
     "data": {
      "image/png": "[encoded data removed]",
      "text/plain": [
       "<Figure size 432x288 with 1 Axes>"
      ]
     },
     "metadata": {
      "needs_background": "light"
     },
     "output_type": "display_data"
    }
   ],
   "source": [
    "external_contours = np.zeros(image.shape)\n",
    " \n",
    "for i in range(len(contours)):\n",
    "    \n",
    "    if hierarchy[0][i][3] == -1:\n",
    "        \n",
    "        cv2.drawContours(external_contours, contours, i, 255, -1)\n",
    " \n",
    "plt.imshow(external_contours,cmap='gray')"
   ]
  },
  {
   "cell_type": "code",
   "execution_count": 20,
   "metadata": {},
   "outputs": [],
   "source": [
    "import matplotlib.pyplot as plt\n",
    "from matplotlib.patches import Polygon\n",
    "\n",
    "\n",
    "def draw_contours(ax, img, contours):\n",
    "    ax.imshow(img)  # 画像を表示する。\n",
    "    ax.set_axis_off()\n",
    "\n",
    "    for i, cnt in enumerate(contours):\n",
    "        # 形状を変更する。(NumPoints, 1, 2) -> (NumPoints, 2)\n",
    "        cnt = cnt.squeeze(axis=1)\n",
    "        # 輪郭の点同士を結ぶ線を描画する。\n",
    "        ax.add_patch(Polygon(cnt, color=\"b\", fill=None, lw=2))\n",
    "        # 輪郭の点を描画する。\n",
    "        ax.plot(cnt[:, 0], cnt[:, 1], \"ro\", mew=0, ms=4)\n",
    "        # 輪郭の番号を描画する。\n",
    "        ax.text(cnt[0][0], cnt[0][1], i, color=\"orange\", size=\"20\")"
   ]
  },
  {
   "cell_type": "code",
   "execution_count": 22,
   "metadata": {},
   "outputs": [
    {
     "data": {
      "image/png": "[encoded data removed]",
      "text/plain": [
       "<Figure size 432x432 with 1 Axes>"
      ]
     },
     "metadata": {
      "needs_background": "light"
     },
     "output_type": "display_data"
    }
   ],
   "source": [
    "from matplotlib.patches import Circle\n",
    "\n",
    "fig, ax = plt.subplots(figsize=(6, 6))\n",
    "draw_contours(ax, img_dst,contours)\n",
    "\n",
    "for cnt in contours:\n",
    "    # 輪郭に外接する円を取得する。\n",
    "    center, radius = cv2.minEnclosingCircle(cnt)\n",
    "    # 描画する。\n",
    "    ax.add_patch(Circle(xy=center, radius=radius, color=\"g\", fill=None, lw=2))\n",
    "\n",
    "plt.show()"
   ]
  },
  {
   "cell_type": "code",
   "execution_count": 27,
   "metadata": {},
   "outputs": [
    {
     "name": "stdout",
     "output_type": "stream",
     "text": [
      "contour: 0, area: 0.0\n",
      "contour: 1, area: 0.0\n",
      "contour: 2, area: 0.0\n",
      "contour: 3, area: 0.0\n",
      "contour: 4, area: 0.0\n",
      "contour: 5, area: 0.0\n",
      "contour: 6, area: 0.0\n",
      "contour: 7, area: 2.0\n",
      "contour: 8, area: 0.0\n",
      "contour: 9, area: 0.0\n",
      "contour: 10, area: 1.0\n",
      "contour: 11, area: 0.0\n",
      "contour: 12, area: 0.0\n",
      "contour: 13, area: 0.0\n",
      "contour: 14, area: 0.0\n",
      "contour: 15, area: 0.0\n",
      "contour: 16, area: 0.0\n",
      "contour: 17, area: 0.0\n",
      "contour: 18, area: 0.0\n",
      "contour: 19, area: 0.0\n",
      "contour: 20, area: 0.0\n",
      "contour: 21, area: 2.0\n",
      "contour: 22, area: 0.0\n",
      "contour: 23, area: 0.5\n",
      "contour: 24, area: 0.0\n",
      "contour: 25, area: 0.0\n",
      "contour: 26, area: 0.0\n",
      "contour: 27, area: 0.0\n",
      "contour: 28, area: 0.0\n",
      "contour: 29, area: 0.0\n",
      "contour: 30, area: 0.0\n",
      "contour: 31, area: 0.0\n",
      "contour: 32, area: 1.0\n",
      "contour: 33, area: 0.0\n",
      "contour: 34, area: 0.0\n",
      "contour: 35, area: 7.0\n",
      "contour: 36, area: 0.0\n",
      "contour: 37, area: 3.5\n",
      "contour: 38, area: 0.0\n",
      "contour: 39, area: 19.0\n",
      "contour: 40, area: 0.0\n",
      "contour: 41, area: 0.0\n",
      "contour: 42, area: 3.0\n",
      "contour: 43, area: 0.0\n",
      "contour: 44, area: 0.0\n",
      "contour: 45, area: 0.0\n",
      "contour: 46, area: 113.0\n",
      "contour: 47, area: 0.0\n",
      "contour: 48, area: 0.0\n",
      "contour: 49, area: 0.0\n",
      "contour: 50, area: 0.0\n",
      "contour: 51, area: 1.5\n",
      "contour: 52, area: 0.0\n",
      "contour: 53, area: 0.0\n",
      "contour: 54, area: 4.5\n",
      "contour: 55, area: 0.0\n",
      "contour: 56, area: 0.0\n",
      "contour: 57, area: 0.0\n",
      "contour: 58, area: 0.0\n",
      "contour: 59, area: 0.5\n",
      "contour: 60, area: 0.0\n",
      "contour: 61, area: 0.0\n",
      "contour: 62, area: 3879.0\n",
      "contour: 63, area: 0.0\n",
      "contour: 64, area: 0.0\n",
      "contour: 65, area: 0.0\n",
      "contour: 66, area: 0.0\n",
      "contour: 67, area: 0.0\n",
      "contour: 68, area: 0.0\n",
      "contour: 69, area: 0.0\n",
      "contour: 70, area: 0.0\n",
      "contour: 71, area: 0.0\n",
      "contour: 72, area: 0.0\n",
      "contour: 73, area: 0.0\n",
      "contour: 74, area: 0.0\n",
      "contour: 75, area: 0.0\n",
      "contour: 76, area: 0.0\n",
      "contour: 77, area: 0.0\n",
      "contour: 78, area: 7.0\n",
      "contour: 79, area: 13.5\n",
      "contour: 80, area: 0.0\n",
      "contour: 81, area: 0.0\n",
      "contour: 82, area: 0.0\n",
      "contour: 83, area: 0.0\n",
      "contour: 84, area: 0.0\n",
      "contour: 85, area: 5.5\n",
      "contour: 86, area: 0.0\n",
      "contour: 87, area: 0.0\n",
      "contour: 88, area: 0.0\n",
      "contour: 89, area: 0.0\n",
      "contour: 90, area: 9.5\n",
      "contour: 91, area: 1.0\n",
      "contour: 92, area: 0.0\n",
      "contour: 93, area: 0.0\n",
      "contour: 94, area: 0.0\n",
      "contour: 95, area: 0.0\n",
      "contour: 96, area: 0.0\n",
      "contour: 97, area: 0.0\n",
      "contour: 98, area: 0.0\n",
      "contour: 99, area: 46.5\n",
      "contour: 100, area: 0.0\n",
      "contour: 101, area: 0.0\n",
      "contour: 102, area: 0.0\n",
      "contour: 103, area: 0.0\n",
      "contour: 104, area: 0.0\n",
      "contour: 105, area: 0.0\n",
      "contour: 106, area: 8.5\n",
      "contour: 107, area: 0.0\n",
      "contour: 108, area: 0.0\n",
      "contour: 109, area: 0.0\n",
      "contour: 110, area: 0.0\n",
      "contour: 111, area: 0.0\n",
      "contour: 112, area: 0.0\n",
      "contour: 113, area: 0.0\n",
      "contour: 114, area: 0.0\n",
      "contour: 115, area: 28.5\n",
      "contour: 116, area: 0.0\n",
      "contour: 117, area: 2.0\n",
      "contour: 118, area: 0.0\n",
      "contour: 119, area: 0.0\n",
      "contour: 120, area: 0.0\n",
      "contour: 121, area: 0.0\n",
      "contour: 122, area: 0.0\n",
      "contour: 123, area: 0.0\n",
      "contour: 124, area: 1.5\n",
      "contour: 125, area: 0.0\n",
      "contour: 126, area: 0.0\n",
      "contour: 127, area: 0.0\n",
      "contour: 128, area: 1.5\n",
      "contour: 129, area: 0.0\n",
      "contour: 130, area: 0.0\n",
      "contour: 131, area: 0.0\n",
      "contour: 132, area: 7.0\n",
      "contour: 133, area: 0.0\n",
      "contour: 134, area: 0.0\n",
      "contour: 135, area: 0.0\n",
      "contour: 136, area: 4.0\n",
      "contour: 137, area: 0.0\n",
      "contour: 138, area: 0.0\n",
      "contour: 139, area: 0.0\n",
      "contour: 140, area: 0.0\n",
      "contour: 141, area: 0.0\n",
      "contour: 142, area: 0.0\n",
      "contour: 143, area: 0.0\n",
      "contour: 144, area: 0.0\n",
      "contour: 145, area: 0.0\n",
      "contour: 146, area: 0.0\n",
      "contour: 147, area: 0.0\n",
      "contour: 148, area: 0.0\n",
      "contour: 149, area: 0.5\n",
      "contour: 150, area: 0.0\n",
      "contour: 151, area: 0.5\n",
      "contour: 152, area: 0.0\n",
      "contour: 153, area: 0.5\n",
      "contour: 154, area: 0.0\n",
      "contour: 155, area: 0.0\n",
      "contour: 156, area: 0.0\n",
      "contour: 157, area: 0.0\n",
      "contour: 158, area: 0.0\n",
      "contour: 159, area: 0.0\n",
      "contour: 160, area: 0.0\n",
      "contour: 161, area: 0.0\n",
      "contour: 162, area: 2.0\n",
      "contour: 163, area: 0.0\n",
      "contour: 164, area: 0.0\n",
      "contour: 165, area: 0.0\n",
      "contour: 166, area: 0.0\n",
      "contour: 167, area: 0.0\n",
      "contour: 168, area: 0.0\n",
      "contour: 169, area: 0.0\n",
      "contour: 170, area: 0.0\n",
      "contour: 171, area: 0.0\n",
      "contour: 172, area: 0.0\n",
      "contour: 173, area: 0.0\n",
      "contour: 174, area: 0.0\n",
      "contour: 175, area: 0.0\n",
      "contour: 176, area: 6.0\n",
      "contour: 177, area: 117.5\n",
      "contour: 178, area: 55.5\n",
      "contour: 179, area: 0.0\n",
      "contour: 180, area: 0.0\n",
      "contour: 181, area: 0.0\n",
      "contour: 182, area: 0.0\n",
      "contour: 183, area: 0.5\n",
      "contour: 184, area: 0.0\n",
      "contour: 185, area: 0.0\n",
      "contour: 186, area: 0.0\n",
      "contour: 187, area: 5.0\n",
      "contour: 188, area: 0.0\n",
      "contour: 189, area: 0.0\n",
      "contour: 190, area: 0.0\n",
      "contour: 191, area: 0.0\n",
      "contour: 192, area: 3.0\n",
      "contour: 193, area: 0.0\n",
      "contour: 194, area: 0.0\n",
      "contour: 195, area: 0.0\n",
      "contour: 196, area: 0.0\n",
      "contour: 197, area: 0.0\n",
      "contour: 198, area: 74.5\n",
      "contour: 199, area: 0.0\n",
      "contour: 200, area: 1.0\n",
      "contour: 201, area: 1.5\n",
      "contour: 202, area: 0.0\n",
      "contour: 203, area: 0.0\n",
      "contour: 204, area: 34.5\n",
      "contour: 205, area: 0.0\n",
      "contour: 206, area: 0.0\n",
      "contour: 207, area: 0.0\n",
      "contour: 208, area: 0.0\n",
      "contour: 209, area: 0.0\n",
      "contour: 210, area: 0.0\n",
      "contour: 211, area: 0.0\n",
      "contour: 212, area: 0.0\n",
      "contour: 213, area: 0.0\n",
      "contour: 214, area: 0.0\n",
      "contour: 215, area: 0.0\n",
      "contour: 216, area: 0.0\n",
      "contour: 217, area: 2.5\n",
      "contour: 218, area: 1.0\n",
      "contour: 219, area: 1.0\n",
      "contour: 220, area: 25.5\n",
      "contour: 221, area: 0.0\n",
      "contour: 222, area: 8.0\n",
      "contour: 223, area: 0.0\n",
      "contour: 224, area: 0.0\n",
      "contour: 225, area: 0.0\n",
      "contour: 226, area: 7.0\n",
      "contour: 227, area: 0.0\n",
      "contour: 228, area: 193.0\n",
      "contour: 229, area: 0.0\n",
      "contour: 230, area: 0.0\n",
      "contour: 231, area: 0.0\n",
      "contour: 232, area: 0.0\n",
      "contour: 233, area: 0.0\n",
      "contour: 234, area: 0.0\n",
      "contour: 235, area: 0.0\n",
      "contour: 236, area: 0.0\n",
      "contour: 237, area: 0.0\n",
      "contour: 238, area: 0.0\n",
      "contour: 239, area: 0.0\n",
      "contour: 240, area: 3.0\n",
      "contour: 241, area: 0.0\n",
      "contour: 242, area: 0.0\n",
      "contour: 243, area: 2.0\n",
      "contour: 244, area: 0.0\n",
      "contour: 245, area: 10.0\n",
      "contour: 246, area: 2.0\n",
      "contour: 247, area: 3.0\n",
      "contour: 248, area: 19.0\n",
      "contour: 249, area: 0.0\n"
     ]
    }
   ],
   "source": [
    "for i, cnt in enumerate(contours):\n",
    "    # 輪郭の面積を計算する。\n",
    "    area = cv2.contourArea(cnt)\n",
    "    print(\"contour: {}, area: {}\".format(i, area))"
   ]
  },
  {
   "cell_type": "code",
   "execution_count": 3,
   "metadata": {},
   "outputs": [],
   "source": [
    "# 線分ABと線分CDの交点を求める関数\n",
    "def _calc_cross_point(pointA, pointB, pointC, pointD):\n",
    "    cross_point = (0,0)\n",
    "    bunbo = (pointB[0] - pointA[0]) * (pointD[1] - pointC[1]) - (pointB[1] - pointA[1]) * (pointD[0] - pointC[0])\n",
    "\n",
    "    # 直線が平行な場合\n",
    "    if (bunbo == 0):\n",
    "        return False, cross_point\n",
    "\n",
    "    vectorAC = ((pointC[0] - pointA[0]), (pointC[1] - pointA[1]))\n",
    "    r = ((pointD[1] - pointC[1]) * vectorAC[0] - (pointD[0] - pointC[0]) * vectorAC[1]) / bunbo\n",
    "    s = ((pointB[1] - pointA[1]) * vectorAC[0] - (pointB[0] - pointA[0]) * vectorAC[1]) / bunbo\n",
    "\n",
    "    # rを使った計算の場合\n",
    "    distance = ((pointB[0] - pointA[0]) * r, (pointB[1] - pointA[1]) * r)\n",
    "    cross_point = [int(pointA[0] + distance[0]), int(pointA[1] + distance[1])]\n",
    "\n",
    "    # sを使った計算の場合\n",
    "    # distance = ((pointD[0] - pointC[0]) * s, (pointD[1] - pointC[1]) * s)\n",
    "    # cross_point = (int(pointC[0] + distance[0]), int(pointC[1] + distance[1]))\n",
    "\n",
    "    return cross_point"
   ]
  },
  {
   "cell_type": "code",
   "execution_count": 4,
   "metadata": {},
   "outputs": [
    {
     "data": {
      "text/plain": [
       "[742, -61]"
      ]
     },
     "execution_count": 4,
     "metadata": {},
     "output_type": "execute_result"
    }
   ],
   "source": [
    "A = [63, 291]\n",
    "B = [341, 147]\n",
    "C = [1217,94]\n",
    "D = [963,11]\n",
    "_calc_cross_point(A,B,C,D)"
   ]
  },
  {
   "cell_type": "code",
   "execution_count": 5,
   "metadata": {},
   "outputs": [
    {
     "data": {
      "text/plain": [
       "([63, 291], [545, 685], [742, -61], [1217, 94])"
      ]
     },
     "execution_count": 5,
     "metadata": {},
     "output_type": "execute_result"
    }
   ],
   "source": [
    "S1 = A\n",
    "S2 = [545,685]\n",
    "S3 = _calc_cross_point(A,B,C,D)\n",
    "S4 = C\n",
    "S1,S2,S3,S4"
   ]
  },
  {
   "cell_type": "code",
   "execution_count": 19,
   "metadata": {},
   "outputs": [],
   "source": [
    "import cv2\n",
    "import math\n",
    "import numpy as np\n",
    "import os\n",
    "\n",
    "def get_position(n):\n",
    "    cap = cv2.VideoCapture(n)\n",
    "    if not cap.isOpened():\n",
    "        return\n",
    "    ret, frame = cap.read()\n",
    "\n",
    "    # 変換前後の対応点を設定\n",
    "#     p_original = np.float32([ [240,213],[72,510], [1121,220], [1280, 522]])\n",
    "    p_original = np.float32([S1,S2,S3, S4])\n",
    "    p_trans = np.float32([[0,0], [0,720], [1280,0], [1280,720]])\n",
    "    # 変換マトリクスと射影変換\n",
    "    M = cv2.getPerspectiveTransform(p_original, p_trans)\n",
    "    trans = cv2.warpPerspective(frame, M, (1280, 720))\n",
    "    trans = cv2.cvtColor(trans, cv2.COLOR_BGR2GRAY)\n",
    "\n",
    "    # 画像の読み込み\n",
    "    img_src1 = cv2.imread(\"./img_forum_square/camera_capture_3.jpg\", 0)\n",
    "    # img_src2 = cv2.imread(\"./img_square/camera_capture_2.jpg\", 0)\n",
    "    img_src2 = trans\n",
    "#     img_src1 = img_src1[20:-20,50:-20]\n",
    "#     img_src2 = img_src2[20:-20,50:-20]\n",
    "    print(img_src1.shape)\n",
    "\n",
    "    # 背景画像との差分を算出\n",
    "    img_diff = cv2.absdiff(img_src2, img_src1)\n",
    "\n",
    "    # 差分を二値化\n",
    "    img_diffm = cv2.threshold(img_diff, 20, 255, cv2.THRESH_BINARY)[1]\n",
    "    # 膨張処理、収縮処理を施してマスク画像を生成\n",
    "    operator = np.ones((3, 3), np.uint8)\n",
    "    img_dilate = cv2.dilate(img_diffm, operator, iterations=4)\n",
    "    img_mask = cv2.erode(img_dilate, operator, iterations=4)\n",
    "\n",
    "    # マスク画像を使って対象を切り出す\n",
    "    img_dst = cv2.bitwise_and(img_src2, img_mask)\n",
    "\n",
    "    image, contours, hierarchy = cv2.findContours(img_dst,cv2.RETR_EXTERNAL, cv2.CHAIN_APPROX_SIMPLE)\n",
    "    for cnt in contours:\n",
    "        # 輪郭に外接する円を取得する。\n",
    "        center, radius = cv2.minEnclosingCircle(cnt)\n",
    "        area = cv2.contourArea(cnt)\n",
    "        if(area>2000):\n",
    "            x = center[0] / img_src1.shape[1]  * 270\n",
    "            y = center[1] / img_src1.shape[0] * 180\n",
    "            print(x,y)           \n",
    "    cv2.imshow('frame',img_dst)\n",
    "    cv2.waitKey(0)\n",
    "    cv2.destroyAllWindows() \n",
    "\n"
   ]
  },
  {
   "cell_type": "code",
   "execution_count": null,
   "metadata": {},
   "outputs": [
    {
     "name": "stdout",
     "output_type": "stream",
     "text": [
      "(720, 1280)\n",
      "134.89453125 89.875\n"
     ]
    }
   ],
   "source": [
    "import time \n",
    "while(1):\n",
    "    try:\n",
    "        get_position(0)\n",
    "    except KeyboardInterrupt:\n",
    "        break\n",
    "    time.sleep(1)"
   ]
  },
  {
   "cell_type": "code",
   "execution_count": 1,
   "metadata": {},
   "outputs": [
    {
     "ename": "NameError",
     "evalue": "name 'img_src1' is not defined",
     "output_type": "error",
     "traceback": [
      "\u001b[0;31m---------------------------------------------------------------------------\u001b[0m",
      "\u001b[0;31mNameError\u001b[0m                                 Traceback (most recent call last)",
      "\u001b[0;32m<ipython-input-1-fc40ab79eaeb>\u001b[0m in \u001b[0;36m<module>\u001b[0;34m\u001b[0m\n\u001b[0;32m----> 1\u001b[0;31m \u001b[0mimg_src1\u001b[0m\u001b[0;34m\u001b[0m\u001b[0;34m\u001b[0m\u001b[0m\n\u001b[0m",
      "\u001b[0;31mNameError\u001b[0m: name 'img_src1' is not defined"
     ]
    }
   ],
   "source": [
    "img_src1"
   ]
  },
  {
   "cell_type": "code",
   "execution_count": 8,
   "metadata": {},
   "outputs": [
    {
     "ename": "AttributeError",
     "evalue": "'NoneType' object has no attribute 'rint'",
     "output_type": "error",
     "traceback": [
      "\u001b[0;31m---------------------------------------------------------------------------\u001b[0m",
      "\u001b[0;31mAttributeError\u001b[0m                            Traceback (most recent call last)",
      "\u001b[0;32m/usr/local/lib/python3.7/site-packages/numpy/core/fromnumeric.py\u001b[0m in \u001b[0;36m_wrapfunc\u001b[0;34m(obj, method, *args, **kwds)\u001b[0m\n\u001b[1;32m     55\u001b[0m     \u001b[0;32mtry\u001b[0m\u001b[0;34m:\u001b[0m\u001b[0;34m\u001b[0m\u001b[0;34m\u001b[0m\u001b[0m\n\u001b[0;32m---> 56\u001b[0;31m         \u001b[0;32mreturn\u001b[0m \u001b[0mgetattr\u001b[0m\u001b[0;34m(\u001b[0m\u001b[0mobj\u001b[0m\u001b[0;34m,\u001b[0m \u001b[0mmethod\u001b[0m\u001b[0;34m)\u001b[0m\u001b[0;34m(\u001b[0m\u001b[0;34m*\u001b[0m\u001b[0margs\u001b[0m\u001b[0;34m,\u001b[0m \u001b[0;34m**\u001b[0m\u001b[0mkwds\u001b[0m\u001b[0;34m)\u001b[0m\u001b[0;34m\u001b[0m\u001b[0;34m\u001b[0m\u001b[0m\n\u001b[0m\u001b[1;32m     57\u001b[0m \u001b[0;34m\u001b[0m\u001b[0m\n",
      "\u001b[0;31mAttributeError\u001b[0m: 'NoneType' object has no attribute 'round'",
      "\nDuring handling of the above exception, another exception occurred:\n",
      "\u001b[0;31mAttributeError\u001b[0m                            Traceback (most recent call last)",
      "\u001b[0;32m<ipython-input-8-4db448143a3d>\u001b[0m in \u001b[0;36m<module>\u001b[0;34m\u001b[0m\n\u001b[1;32m     11\u001b[0m                             param1=50,param2=30,minRadius=0,maxRadius=0)\n\u001b[1;32m     12\u001b[0m \u001b[0;34m\u001b[0m\u001b[0m\n\u001b[0;32m---> 13\u001b[0;31m \u001b[0mcircles\u001b[0m \u001b[0;34m=\u001b[0m \u001b[0mnp\u001b[0m\u001b[0;34m.\u001b[0m\u001b[0muint16\u001b[0m\u001b[0;34m(\u001b[0m\u001b[0mnp\u001b[0m\u001b[0;34m.\u001b[0m\u001b[0maround\u001b[0m\u001b[0;34m(\u001b[0m\u001b[0mcircles\u001b[0m\u001b[0;34m)\u001b[0m\u001b[0;34m)\u001b[0m\u001b[0;34m\u001b[0m\u001b[0;34m\u001b[0m\u001b[0m\n\u001b[0m\u001b[1;32m     14\u001b[0m \u001b[0;32mfor\u001b[0m \u001b[0mi\u001b[0m \u001b[0;32min\u001b[0m \u001b[0mcircles\u001b[0m\u001b[0;34m[\u001b[0m\u001b[0;36m0\u001b[0m\u001b[0;34m,\u001b[0m\u001b[0;34m:\u001b[0m\u001b[0;34m]\u001b[0m\u001b[0;34m:\u001b[0m\u001b[0;34m\u001b[0m\u001b[0;34m\u001b[0m\u001b[0m\n\u001b[1;32m     15\u001b[0m     \u001b[0;31m# draw the outer circle\u001b[0m\u001b[0;34m\u001b[0m\u001b[0;34m\u001b[0m\u001b[0;34m\u001b[0m\u001b[0m\n",
      "\u001b[0;32m/usr/local/lib/python3.7/site-packages/numpy/core/fromnumeric.py\u001b[0m in \u001b[0;36maround\u001b[0;34m(a, decimals, out)\u001b[0m\n\u001b[1;32m   3005\u001b[0m \u001b[0;34m\u001b[0m\u001b[0m\n\u001b[1;32m   3006\u001b[0m     \"\"\"\n\u001b[0;32m-> 3007\u001b[0;31m     \u001b[0;32mreturn\u001b[0m \u001b[0m_wrapfunc\u001b[0m\u001b[0;34m(\u001b[0m\u001b[0ma\u001b[0m\u001b[0;34m,\u001b[0m \u001b[0;34m'round'\u001b[0m\u001b[0;34m,\u001b[0m \u001b[0mdecimals\u001b[0m\u001b[0;34m=\u001b[0m\u001b[0mdecimals\u001b[0m\u001b[0;34m,\u001b[0m \u001b[0mout\u001b[0m\u001b[0;34m=\u001b[0m\u001b[0mout\u001b[0m\u001b[0;34m)\u001b[0m\u001b[0;34m\u001b[0m\u001b[0;34m\u001b[0m\u001b[0m\n\u001b[0m\u001b[1;32m   3008\u001b[0m \u001b[0;34m\u001b[0m\u001b[0m\n\u001b[1;32m   3009\u001b[0m \u001b[0;34m\u001b[0m\u001b[0m\n",
      "\u001b[0;32m/usr/local/lib/python3.7/site-packages/numpy/core/fromnumeric.py\u001b[0m in \u001b[0;36m_wrapfunc\u001b[0;34m(obj, method, *args, **kwds)\u001b[0m\n\u001b[1;32m     64\u001b[0m     \u001b[0;31m# a downstream library like 'pandas'.\u001b[0m\u001b[0;34m\u001b[0m\u001b[0;34m\u001b[0m\u001b[0;34m\u001b[0m\u001b[0m\n\u001b[1;32m     65\u001b[0m     \u001b[0;32mexcept\u001b[0m \u001b[0;34m(\u001b[0m\u001b[0mAttributeError\u001b[0m\u001b[0;34m,\u001b[0m \u001b[0mTypeError\u001b[0m\u001b[0;34m)\u001b[0m\u001b[0;34m:\u001b[0m\u001b[0;34m\u001b[0m\u001b[0;34m\u001b[0m\u001b[0m\n\u001b[0;32m---> 66\u001b[0;31m         \u001b[0;32mreturn\u001b[0m \u001b[0m_wrapit\u001b[0m\u001b[0;34m(\u001b[0m\u001b[0mobj\u001b[0m\u001b[0;34m,\u001b[0m \u001b[0mmethod\u001b[0m\u001b[0;34m,\u001b[0m \u001b[0;34m*\u001b[0m\u001b[0margs\u001b[0m\u001b[0;34m,\u001b[0m \u001b[0;34m**\u001b[0m\u001b[0mkwds\u001b[0m\u001b[0;34m)\u001b[0m\u001b[0;34m\u001b[0m\u001b[0;34m\u001b[0m\u001b[0m\n\u001b[0m\u001b[1;32m     67\u001b[0m \u001b[0;34m\u001b[0m\u001b[0m\n\u001b[1;32m     68\u001b[0m \u001b[0;34m\u001b[0m\u001b[0m\n",
      "\u001b[0;32m/usr/local/lib/python3.7/site-packages/numpy/core/fromnumeric.py\u001b[0m in \u001b[0;36m_wrapit\u001b[0;34m(obj, method, *args, **kwds)\u001b[0m\n\u001b[1;32m     44\u001b[0m     \u001b[0;32mexcept\u001b[0m \u001b[0mAttributeError\u001b[0m\u001b[0;34m:\u001b[0m\u001b[0;34m\u001b[0m\u001b[0;34m\u001b[0m\u001b[0m\n\u001b[1;32m     45\u001b[0m         \u001b[0mwrap\u001b[0m \u001b[0;34m=\u001b[0m \u001b[0;32mNone\u001b[0m\u001b[0;34m\u001b[0m\u001b[0;34m\u001b[0m\u001b[0m\n\u001b[0;32m---> 46\u001b[0;31m     \u001b[0mresult\u001b[0m \u001b[0;34m=\u001b[0m \u001b[0mgetattr\u001b[0m\u001b[0;34m(\u001b[0m\u001b[0masarray\u001b[0m\u001b[0;34m(\u001b[0m\u001b[0mobj\u001b[0m\u001b[0;34m)\u001b[0m\u001b[0;34m,\u001b[0m \u001b[0mmethod\u001b[0m\u001b[0;34m)\u001b[0m\u001b[0;34m(\u001b[0m\u001b[0;34m*\u001b[0m\u001b[0margs\u001b[0m\u001b[0;34m,\u001b[0m \u001b[0;34m**\u001b[0m\u001b[0mkwds\u001b[0m\u001b[0;34m)\u001b[0m\u001b[0;34m\u001b[0m\u001b[0;34m\u001b[0m\u001b[0m\n\u001b[0m\u001b[1;32m     47\u001b[0m     \u001b[0;32mif\u001b[0m \u001b[0mwrap\u001b[0m\u001b[0;34m:\u001b[0m\u001b[0;34m\u001b[0m\u001b[0;34m\u001b[0m\u001b[0m\n\u001b[1;32m     48\u001b[0m         \u001b[0;32mif\u001b[0m \u001b[0;32mnot\u001b[0m \u001b[0misinstance\u001b[0m\u001b[0;34m(\u001b[0m\u001b[0mresult\u001b[0m\u001b[0;34m,\u001b[0m \u001b[0mmu\u001b[0m\u001b[0;34m.\u001b[0m\u001b[0mndarray\u001b[0m\u001b[0;34m)\u001b[0m\u001b[0;34m:\u001b[0m\u001b[0;34m\u001b[0m\u001b[0;34m\u001b[0m\u001b[0m\n",
      "\u001b[0;31mAttributeError\u001b[0m: 'NoneType' object has no attribute 'rint'"
     ]
    }
   ],
   "source": [
    "import cv2\n",
    "import numpy as np\n",
    "\n",
    "# cap = cv2.VideoCapture(0)\n",
    "# ret, frame = cap.read()\n",
    "img = cv2.imread('./img_forum_square/camera_capture_0.jpg',0)\n",
    "img = cv2.medianBlur(img,5)\n",
    "cimg = cv2.cvtColor(img,cv2.COLOR_GRAY2BGR)\n",
    "\n",
    "circles = cv2.HoughCircles(img,cv2.HOUGH_GRADIENT,1,20,\n",
    "                            param1=50,param2=30,minRadius=0,maxRadius=0)\n",
    "\n",
    "circles = np.uint16(np.around(circles))\n",
    "for i in circles[0,:]:\n",
    "    # draw the outer circle\n",
    "    cv2.circle(cimg,(i[0],i[1]),i[2],(0,255,0),2)\n",
    "    # draw the center of the circle\n",
    "    cv2.circle(cimg,(i[0],i[1]),2,(0,0,255),3)\n",
    "\n",
    "cv2.imshow('detected circles',cimg)\n",
    "cv2.waitKey(0)\n",
    "cv2.destroyAllWindows()"
   ]
  },
  {
   "cell_type": "code",
   "execution_count": 12,
   "metadata": {},
   "outputs": [],
   "source": [
    "# 画像の読み込み\n",
    "img_src1 = cv2.imread(\"./img_forum_square/camera_capture_0.jpg\", 0)\n",
    "img_src2 = cv2.imread(\"./img_forum_square/camera_capture_4.jpg\", 0)\n",
    "\n",
    "fgbg = cv2.bgsegm.createBackgroundSubtractorMOG()\n",
    "\n",
    "fgmask = fgbg.apply(img_src1)\n",
    "fgmask = fgbg.apply(img_src2)\n",
    "\n",
    "# 表示\n",
    "cv2.imshow('frame',fgmask)\n",
    "\n",
    "# 検出画像\n",
    "bg_diff_path  = './diff.jpg'\n",
    "cv2.imwrite(bg_diff_path,fgmask)\n",
    "\n",
    "image, contours, hierarchy = cv2.findContours(fgmask,cv2.RETR_EXTERNAL, cv2.CHAIN_APPROX_SIMPLE)\n",
    "for cnt in contours:\n",
    "    # 輪郭に外接する円を取得する。\n",
    "    center, radius = cv2.minEnclosingCircle(cnt)\n",
    "    area = cv2.contourArea(cnt)\n",
    "    if(area>2000):\n",
    "        x = center[0] / img_src1.shape[1]  * 270\n",
    "        y = center[1] / img_src1.shape[0] * 180\n",
    "        print(x,y)           \n",
    "\n",
    "cv2.waitKey(0)\n",
    "cv2.destroyAllWindows()"
   ]
  },
  {
   "cell_type": "code",
   "execution_count": 6,
   "metadata": {},
   "outputs": [],
   "source": [
    "import cv2\n",
    "import math\n",
    "import numpy as np\n",
    "import os\n",
    "\n",
    "def get_position(n):\n",
    "    cap = cv2.VideoCapture(n)\n",
    "    if not cap.isOpened():\n",
    "        return\n",
    "    ret, frame = cap.read()\n",
    "\n",
    "    # 変換前後の対応点を設定\n",
    "#     p_original = np.float32([ [240,213],[72,510], [1121,220], [1280, 522]])\n",
    "    p_original = np.float32([S1,S2,S3, S4])\n",
    "    p_trans = np.float32([[0,0], [0,720], [1280,0], [1280,720]])\n",
    "    # 変換マトリクスと射影変換\n",
    "    M = cv2.getPerspectiveTransform(p_original, p_trans)\n",
    "    trans = cv2.warpPerspective(frame, M, (1280, 720))\n",
    "    trans = cv2.cvtColor(trans, cv2.COLOR_BGR2GRAY)\n",
    "\n",
    "    # 画像の読み込み\n",
    "    img_src0 = cv2.imread(\"./img_forum_square/camera_capture_0.jpg\", 0)\n",
    "    img_src1 = cv2.imread(\"./img_forum_square/camera_capture_1.jpg\", 0)\n",
    "    # img_src2 = cv2.imread(\"./img_square/camera_capture_2.jpg\", 0)\n",
    "    img_src2 = trans\n",
    "#     img_src1 = img_src1[20:-20,50:-20]\n",
    "#     img_src2 = img_src2[20:-20,50:-20]\n",
    "    pts = np.array( [ [425,0], [425,373], [1280, 373], [1280,0] ] )\n",
    "    img_src0 = cv2.fillPoly(img_src0, pts =[pts], color=(0,0,0))\n",
    "    img_src1 = cv2.fillPoly(img_src1, pts =[pts], color=(0,0,0))\n",
    "    img_src2 = cv2.fillPoly(img_src2, pts =[pts], color=(0,0,0))\n",
    "    print(img_src1.shape)\n",
    "\n",
    "    # 背景画像との差分を算出\n",
    "    img_diffs = [cv2.absdiff(img_src2, img_src1),cv2.absdiff(img_src2, img_src0)]\n",
    "    robo_pos = []\n",
    "    for img_diff in img_diffs:\n",
    "        # 差分を二値化\n",
    "        img_diffm = cv2.threshold(img_diff, 20, 255, cv2.THRESH_BINARY)[1]\n",
    "        # 膨張処理、収縮処理を施してマスク画像を生成\n",
    "        operator = np.ones((3, 3), np.uint8)\n",
    "        img_dilate = cv2.dilate(img_diffm, operator, iterations=4)\n",
    "        img_mask = cv2.erode(img_dilate, operator, iterations=4)\n",
    "\n",
    "        # マスク画像を使って対象を切り出す\n",
    "        img_dst = cv2.bitwise_and(img_src2, img_mask)\n",
    "\n",
    "        image, contours, hierarchy = cv2.findContours(img_dst,cv2.RETR_EXTERNAL, cv2.CHAIN_APPROX_SIMPLE)\n",
    "        for cnt in contours:\n",
    "            # 輪郭に外接する円を取得する。\n",
    "            center, radius = cv2.minEnclosingCircle(cnt)\n",
    "            area = cv2.contourArea(cnt)\n",
    "            if(area>3500 and area < 6000):\n",
    "                x = center[0] / img_src1.shape[1]  * 270\n",
    "                y = center[1] / img_src1.shape[0] * 180\n",
    "                if x < 260 or y > 10:\n",
    "                    print(area,x,y)\n",
    "                    robo_pos.append([x,y])\n",
    "        print(robo_pos)\n",
    "#         cv2.imshow('frame',img_dst)\n",
    "#         cv2.waitKey(0)\n",
    "#         cv2.destroyAllWindows() "
   ]
  },
  {
   "cell_type": "code",
   "execution_count": 7,
   "metadata": {},
   "outputs": [
    {
     "name": "stdout",
     "output_type": "stream",
     "text": [
      "(720, 1280)\n",
      "[]\n",
      "[]\n",
      "(720, 1280)\n",
      "[]\n"
     ]
    }
   ],
   "source": [
    "import time \n",
    "while(1):\n",
    "    try:\n",
    "        get_position(0)\n",
    "    except KeyboardInterrupt:\n",
    "        break\n",
    "    time.sleep(1)"
   ]
  },
  {
   "cell_type": "code",
   "execution_count": 1,
   "metadata": {},
   "outputs": [],
   "source": [
    "import cv2\n",
    "import os\n",
    "import numpy as np\n",
    "\n",
    "# 線分ABと線分CDの交点を求める関数\n",
    "def _calc_cross_point(pointA, pointB, pointC, pointD):\n",
    "    cross_point = (0,0)\n",
    "    bunbo = (pointB[0] - pointA[0]) * (pointD[1] - pointC[1]) - (pointB[1] - pointA[1]) * (pointD[0] - pointC[0])\n",
    "\n",
    "    # 直線が平行な場合\n",
    "    if (bunbo == 0):\n",
    "        return False, cross_point\n",
    "\n",
    "    vectorAC = ((pointC[0] - pointA[0]), (pointC[1] - pointA[1]))\n",
    "    r = ((pointD[1] - pointC[1]) * vectorAC[0] - (pointD[0] - pointC[0]) * vectorAC[1]) / bunbo\n",
    "    s = ((pointB[1] - pointA[1]) * vectorAC[0] - (pointB[0] - pointA[0]) * vectorAC[1]) / bunbo\n",
    "\n",
    "    # rを使った計算の場合\n",
    "    distance = ((pointB[0] - pointA[0]) * r, (pointB[1] - pointA[1]) * r)\n",
    "    cross_point = [int(pointA[0] + distance[0]), int(pointA[1] + distance[1])]\n",
    "\n",
    "    # sを使った計算の場合\n",
    "    # distance = ((pointD[0] - pointC[0]) * s, (pointD[1] - pointC[1]) * s)\n",
    "    # cross_point = (int(pointC[0] + distance[0]), int(pointC[1] + distance[1]))\n",
    "\n",
    "    return cross_point\n",
    "\n",
    "A = [68, 540]\n",
    "B = [559,659]\n",
    "C = [1053,16]\n",
    "D = [1086,560]\n",
    "S1 = [23,177] #左上\n",
    "S2 = A #左下\n",
    "S3 = C #右上\n",
    "S4 = _calc_cross_point(A,B,C,D)  #右下\n",
    "\n"
   ]
  },
  {
   "cell_type": "code",
   "execution_count": 6,
   "metadata": {},
   "outputs": [
    {
     "data": {
      "text/plain": [
       "True"
      ]
     },
     "execution_count": 6,
     "metadata": {},
     "output_type": "execute_result"
    }
   ],
   "source": [
    "cap = cv2.VideoCapture(0)\n",
    "if not cap.isOpened():\n",
    "    print(\"no camera\")\n",
    "ret, frame = cap.read()\n",
    "\n",
    "# 変換前後の対応点を設定\n",
    "p_original = np.float32([S1,S2,S3, S4])\n",
    "width = 270 * 3\n",
    "height = 90 * 3\n",
    "p_trans = np.float32([[0,0], [0,height], [width,0], [width,height]])# 変換マトリクスと射影変換\n",
    "M = cv2.getPerspectiveTransform(p_original, p_trans)\n",
    "trans = cv2.warpPerspective(frame, M, (width, height)) \n",
    "cv2.imshow('frame',trans)\n",
    "cv2.waitKey(0)\n",
    "cv2.destroyAllWindows() \n",
    "base_path = os.path.join(\"./imgs/baseline/\", \"base\")\n",
    "cv2.imwrite('{}_{}.{}'.format(base_path, 0, \"jpg\"), trans)"
   ]
  },
  {
   "cell_type": "code",
   "execution_count": 9,
   "metadata": {},
   "outputs": [],
   "source": [
    "import cv2\n",
    "import math\n",
    "import numpy as np\n",
    "import os\n",
    "width = 270 * 3\n",
    "height = 90 * 3\n",
    "def get_position(n):\n",
    "    cap = cv2.VideoCapture(n)\n",
    "    if not cap.isOpened():\n",
    "        return\n",
    "    ret, frame = cap.read()\n",
    "\n",
    "    # 変換前後の対応点を設定\n",
    "#     p_original = np.float32([ [240,213],[72,510], [1121,220], [1280, 522]])\n",
    "    p_original = np.float32([S1,S2,S3, S4])\n",
    "    p_trans = np.float32([[0,0], [0,height], [width,0], [width,height]])\n",
    "    # 変換マトリクスと射影変換\n",
    "    M = cv2.getPerspectiveTransform(p_original, p_trans)\n",
    "    trans = cv2.warpPerspective(frame, M, (width, height))\n",
    "    trans = cv2.cvtColor(trans, cv2.COLOR_BGR2GRAY)\n",
    "\n",
    "    # 画像の読み込み\n",
    "    img_src1 = cv2.imread(\"./imgs/baseline/base_0.jpg\", 0)\n",
    "    # img_src2 = cv2.imread(\"./img_square/camera_capture_2.jpg\", 0)\n",
    "    img_src2 = trans\n",
    "\n",
    "#     print(img_src1.shape)\n",
    "\n",
    "    # 背景画像との差分を算出\n",
    "    img_diff = cv2.absdiff(img_src2, img_src1)\n",
    "\n",
    "    # 差分を二値化\n",
    "    img_diffm = cv2.threshold(img_diff, 20, 255, cv2.THRESH_BINARY)[1]\n",
    "    # 膨張処理、収縮処理を施してマスク画像を生成\n",
    "    operator = np.ones((3, 3), np.uint8)\n",
    "    img_dilate = cv2.dilate(img_diffm, operator, iterations=4)\n",
    "    img_mask = cv2.erode(img_dilate, operator, iterations=4)\n",
    "    kernel = np.ones((5,5),np.float32)/40\n",
    "    img_mask = cv2.filter2D(img_mask,-1,kernel)\n",
    "\n",
    "    # マスク画像を使って対象を切り出す\n",
    "    img_dst = cv2.bitwise_and(img_src2, img_mask)\n",
    "    x = 264\n",
    "    y = 135\n",
    "    image, contours, hierarchy = cv2.findContours(img_dst,cv2.RETR_EXTERNAL, cv2.CHAIN_APPROX_SIMPLE)\n",
    "    for cnt in contours:\n",
    "        # 輪郭に外接する円を取得する。\n",
    "        center, radius = cv2.minEnclosingCircle(cnt)\n",
    "        area = cv2.contourArea(cnt)\n",
    "#         print(area)\n",
    "        if(area>600 and area < 3000):\n",
    "            x = center[0] / img_src1.shape[1]  * width / 3\n",
    "            y = center[1] / img_src1.shape[0] * height / 3\n",
    "            print(x,y,area)           \n",
    "    cv2.imshow('frame',img_dst)\n",
    "    cv2.waitKey(0)\n",
    "    cv2.destroyAllWindows() \n",
    "    return x,y\n"
   ]
  },
  {
   "cell_type": "code",
   "execution_count": null,
   "metadata": {},
   "outputs": [
    {
     "name": "stdout",
     "output_type": "stream",
     "text": [
      "267.5 66.83333333333333 667.5\n",
      "25.5 22.333333333333332 841.5\n",
      "268.3333333333333 61.666666666666664 871.5\n",
      "260.1666666666667 12.5 720.0\n",
      "268.0 59.333333333333336 954.0\n",
      "25.166666666666668 22.833333333333332 697.0\n",
      "261.6666666666667 9.5 628.5\n",
      "268.3333333333333 62.33333333333332 816.5\n",
      "23.0 25.0 623.5\n",
      "268.3333333333333 62.5 792.0\n",
      "261.3333333333333 15.166666666666666 726.5\n",
      "268.1666666666667 62.5 863.5\n",
      "25.0 22.833333333333332 846.5\n",
      "261.0 17.833333333333332 816.0\n",
      "267.3333333333333 64.33333333333333 783.5\n",
      "268.5 63.0 741.5\n",
      "26.0092290242513 20.48479970296224 709.0\n",
      "268.1666666666667 67.0 673.5\n",
      "268.0 61.5 846.0\n",
      "260.6666666666667 12.833333333333334 647.5\n",
      "268.5 64.5 753.5\n",
      "25.702898661295574 23.5 873.0\n",
      "260.0 15.333333333333334 732.5\n",
      "268.3333333333333 61.833333333333336 815.0\n",
      "25.300577799479168 23.14739990234375 797.5\n",
      "268.0 61.00671895345052 906.0\n",
      "268.0 61.166666666666664 907.0\n",
      "268.3333333333333 64.0 783.0\n",
      "25.833333333333332 23.833333333333332 984.0\n",
      "260.6666666666667 12.166666666666666 632.0\n"
     ]
    }
   ],
   "source": [
    "import time \n",
    "while(1):\n",
    "    try:\n",
    "        get_position(0)\n",
    "    except KeyboardInterrupt:\n",
    "        break\n",
    "    time.sleep(0.1)"
   ]
  },
  {
   "cell_type": "code",
   "execution_count": null,
   "metadata": {},
   "outputs": [],
   "source": [
    "import socket\n",
    "\n",
    "host = \"157.82.207.143\" #Processingで立ち上げたサーバのIPアドレス\n",
    "port = 10001       #Processingで設定したポート番号\n",
    "\n",
    "socket_client = socket.socket(socket.AF_INET, socket.SOCK_STREAM) #オブジェクトの作成\n",
    "socket_client.connect((host, port))                               #サーバに接続\n",
    "while(1):\n",
    "    pos_x,pos_y = get_position(1)\n",
    "    #socket_client.send('送信するメッセージ')                #データを送信 Python2\n",
    "    socket_client.send('{},{}'.format(pos_x,pos_y).encode('utf-8')) #データを送信 Python3\n",
    "    time.sleep(1)"
   ]
  },
  {
   "cell_type": "markdown",
   "metadata": {},
   "source": []
  },
  {
   "cell_type": "code",
   "execution_count": null,
   "metadata": {},
   "outputs": [],
   "source": [
    "import cv2\n",
    "import os\n",
    "\n",
    "def save_frame_camera_key(device_num, dir_path, basename, ext='jpg', delay=1, window_name='frame'):\n",
    "    cap = cv2.VideoCapture(device_num)\n",
    "\n",
    "    if not cap.isOpened():\n",
    "        print(\"no camera\")\n",
    "        return\n",
    "\n",
    "    os.makedirs(dir_path, exist_ok=True)\n",
    "    base_path = os.path.join(dir_path, basename)\n",
    "\n",
    "    n = 0\n",
    "    \n",
    "    while True:\n",
    "        ret, frame = cap.read()\n",
    "        cv2.imshow(window_name, frame)\n",
    "        key = cv2.waitKey(delay) & 0xFF\n",
    "        if key == ord('c'):\n",
    "            cv2.imwrite('{}_{}.{}'.format(base_path, n, ext), frame)\n",
    "            n += 1\n",
    "        elif key == ord('q'):\n",
    "            break\n",
    "\n",
    "            \n",
    "    cv2.destroyWindow(window_name)\n",
    "\n",
    "save_frame_camera_key(0, './img_forum', 'camera_capture')"
   ]
  }
 ],
 "metadata": {
  "kernelspec": {
   "display_name": "Python 3",
   "language": "python",
   "name": "python3"
  },
  "language_info": {
   "codemirror_mode": {
    "name": "ipython",
    "version": 3
   },
   "file_extension": ".py",
   "mimetype": "text/x-python",
   "name": "python",
   "nbconvert_exporter": "python",
   "pygments_lexer": "ipython3",
   "version": "3.7.4"
  },
  "toc": {
   "base_numbering": 1,
   "nav_menu": {},
   "number_sections": true,
   "sideBar": true,
   "skip_h1_title": false,
   "title_cell": "Table of Contents",
   "title_sidebar": "Contents",
   "toc_cell": false,
   "toc_position": {},
   "toc_section_display": true,
   "toc_window_display": false
  }
 },
 "nbformat": 4,
 "nbformat_minor": 2
}
